{
 "cells": [
  {
   "cell_type": "markdown",
   "metadata": {},
   "source": [
    "# Splunk App for Data Science and Deep Learning - Notebook for Autoencoder with TensorFlow and Keras (version 2.15)"
   ]
  },
  {
   "cell_type": "markdown",
   "metadata": {},
   "source": [
    "## Autoencoder Example\n",
    "This notebook contains an example workflow how to work on custom containerized code that seamlessly interfaces with the Splunk App for Data Science and Deep Learning (DSDL). As an example we use a custom autoencoder built on keras and tensorflow."
   ]
  },
  {
   "cell_type": "markdown",
   "metadata": {},
   "source": [
    "Note: By default every time you save this notebook the cells are exported into a python module which is then invoked by Splunk MLTK commands like <code> | fit ... | apply ... | summary </code>. Please read the Model Development Guide in the Deep Learning Toolkit app for more information."
   ]
  },
  {
   "cell_type": "markdown",
   "metadata": {},
   "source": [
    "## Stage 0 - import libraries\n",
    "At stage 0 we define all imports necessary to run our subsequent code depending on various libraries."
   ]
  },
  {
   "cell_type": "code",
   "execution_count": 1,
   "metadata": {
    "deletable": false,
    "name": "mltkc_import"
   },
   "outputs": [
    {
     "name": "stderr",
     "output_type": "stream",
     "text": [
      "2024-04-25 17:27:27.210161: I tensorflow/core/platform/cpu_feature_guard.cc:210] This TensorFlow binary is optimized to use available CPU instructions in performance-critical operations.\n",
      "To enable the following instructions: AVX2 FMA, in other operations, rebuild TensorFlow with the appropriate compiler flags.\n"
     ]
    }
   ],
   "source": [
    "# mltkc_import\n",
    "# this definition exposes all python module imports that should be available in all subsequent commands\n",
    "import json\n",
    "import datetime\n",
    "import numpy as np\n",
    "import pandas as pd\n",
    "import tensorflow as tf\n",
    "import keras\n",
    "\n",
    "# global constants\n",
    "MODEL_DIRECTORY = \"/srv/app/model/data/\""
   ]
  },
  {
   "cell_type": "code",
   "execution_count": 2,
   "metadata": {},
   "outputs": [
    {
     "name": "stdout",
     "output_type": "stream",
     "text": [
      "numpy version: 1.26.4\n",
      "pandas version: 2.2.1\n",
      "TensorFlow version: 2.16.1\n",
      "Keras version: 3.2.0\n"
     ]
    }
   ],
   "source": [
    "# THIS CELL IS NOT EXPORTED - free notebook cell for testing purposes\n",
    "print(\"numpy version: \" + np.__version__)\n",
    "print(\"pandas version: \" + pd.__version__)\n",
    "print(\"TensorFlow version: \" + tf.__version__)\n",
    "print(\"Keras version: \" + keras.__version__)"
   ]
  },
  {
   "cell_type": "markdown",
   "metadata": {},
   "source": [
    "## Stage 1 - get a data sample from Splunk\n",
    "In Splunk run a search to pipe a prepared dataset into this environment."
   ]
  },
  {
   "cell_type": "markdown",
   "metadata": {},
   "source": [
    "| inputlookup iris.csv <br>| fit MLTKContainer algo=autoencoder mode=stage epochs=100 batch_size=4 components=2 petal_length petal_width sepal_length sepal_width into app:iris_autoencoder"
   ]
  },
  {
   "cell_type": "markdown",
   "metadata": {},
   "source": [
    "After you run this search your data set sample is available as a csv inside the container to develop your model. The name is taken from the into keyword (\"my_model\" in the example above) or set to \"default\" if no into keyword is present. This step is intended to work with a subset of your data to create your custom model."
   ]
  },
  {
   "cell_type": "code",
   "execution_count": 3,
   "metadata": {
    "deletable": false,
    "name": "mltkc_stage"
   },
   "outputs": [],
   "source": [
    "# mltkc_stage\n",
    "# this cell is not executed from MLTK and should only be used for staging data into the notebook environment\n",
    "def stage(name):\n",
    "    with open(\"data/\"+name+\".csv\", 'r') as f:\n",
    "        df = pd.read_csv(f)\n",
    "    with open(\"data/\"+name+\".json\", 'r') as f:\n",
    "        param = json.load(f)\n",
    "    return df, param"
   ]
  },
  {
   "cell_type": "code",
   "execution_count": 4,
   "metadata": {},
   "outputs": [
    {
     "name": "stdout",
     "output_type": "stream",
     "text": [
      "   sepal_length  sepal_width  petal_length  petal_width\n",
      "0           5.1          3.5           1.4          0.2\n",
      "(150, 4)\n",
      "{'options': {'params': {'algo': 'autoencoder', 'mode': 'stage', 'epochs': '100', 'batch_size': '4', 'components': '2'}, 'args': ['petal_length', 'petal_width', 'sepal_length', 'sepal_width'], 'feature_variables': ['petal_length', 'petal_width', 'sepal_length', 'sepal_width'], 'model_name': 'iris_autoencoder', 'algo_name': 'MLTKContainer', 'mlspl_limits': {'disabled': False, 'handle_new_cat': 'default', 'max_distinct_cat_values': '10000', 'max_distinct_cat_values_for_classifiers': '10000', 'max_distinct_cat_values_for_scoring': '10000', 'max_fit_time': '6000', 'max_inputs': '10000000', 'max_memory_usage_mb': '16000', 'max_model_size_mb': '3000', 'max_score_time': '6000', 'use_sampling': '1'}, 'kfold_cv': None}, 'feature_variables': ['petal_length', 'petal_width', 'sepal_length', 'sepal_width']}\n"
     ]
    }
   ],
   "source": [
    "# THIS CELL IS NOT EXPORTED - free notebook cell for testing purposes\n",
    "df, param = stage(\"iris_autoencoder\")\n",
    "print(df[0:1])\n",
    "print(df.shape)\n",
    "print(str(param))"
   ]
  },
  {
   "cell_type": "markdown",
   "metadata": {},
   "source": [
    "## Stage 2 - create and initialize a model"
   ]
  },
  {
   "cell_type": "code",
   "execution_count": 5,
   "metadata": {
    "deletable": false,
    "name": "mltkc_init"
   },
   "outputs": [],
   "source": [
    "# mltkc_init\n",
    "# initialize the model\n",
    "# params: data and parameters\n",
    "# returns the model object which will be used as a reference to call fit, apply and summary subsequently\n",
    "def init(df,param):\n",
    "    X = df[param['feature_variables']]\n",
    "    print(\"FIT build model with input shape \" + str(X.shape))\n",
    "    components = 3\n",
    "    activation_fn = 'relu'\n",
    "    # learning_rate = 0.001\n",
    "    # epsilon=0.00001 # default 1e-07\n",
    "    if 'options' in param:\n",
    "        if 'params' in param['options']:\n",
    "            if 'components' in param['options']['params']:\n",
    "                components = int(param['options']['params']['components'])\n",
    "            if 'activation_func' in param['options']['params']:\n",
    "                activation_fn = param['options']['params']['activation_func']\n",
    "    input_shape = int(X.shape[1])\n",
    "    encoder_layer = keras.layers.Dense(components, input_dim=input_shape, activation=activation_fn, kernel_initializer=keras.initializers.RandomUniform(minval=0, maxval=1, seed=None), bias_initializer=keras.initializers.RandomUniform(minval=0, maxval=1, seed=None))\n",
    "    decoder_layer = keras.layers.Dense(input_shape, activation=activation_fn, kernel_initializer=keras.initializers.RandomUniform(minval=0, maxval=1, seed=None), bias_initializer=keras.initializers.RandomUniform(minval=0, maxval=1, seed=None))\n",
    "    model = keras.Sequential()\n",
    "    model.add(encoder_layer)\n",
    "    model.add(decoder_layer)\n",
    "    #opt = keras.optimizers.Adam(learning_rate=learning_rate, epsilon=epsilon)\n",
    "    model.compile(loss='mean_squared_error', optimizer='adam', metrics=['accuracy'])\n",
    "    return model"
   ]
  },
  {
   "cell_type": "code",
   "execution_count": 6,
   "metadata": {
    "scrolled": true
   },
   "outputs": [
    {
     "name": "stdout",
     "output_type": "stream",
     "text": [
      "FIT build model with input shape (150, 4)\n"
     ]
    },
    {
     "name": "stderr",
     "output_type": "stream",
     "text": [
      "/usr/local/lib/python3.9/site-packages/keras/src/layers/core/dense.py:86: UserWarning: Do not pass an `input_shape`/`input_dim` argument to a layer. When using Sequential models, prefer using an `Input(shape)` object as the first layer in the model instead.\n",
      "  super().__init__(activity_regularizer=activity_regularizer, **kwargs)\n"
     ]
    },
    {
     "data": {
      "text/html": [
       "<pre style=\"white-space:pre;overflow-x:auto;line-height:normal;font-family:Menlo,'DejaVu Sans Mono',consolas,'Courier New',monospace\"><span style=\"font-weight: bold\">Model: \"sequential\"</span>\n",
       "</pre>\n"
      ],
      "text/plain": [
       "\u001b[1mModel: \"sequential\"\u001b[0m\n"
      ]
     },
     "metadata": {},
     "output_type": "display_data"
    },
    {
     "data": {
      "text/html": [
       "<pre style=\"white-space:pre;overflow-x:auto;line-height:normal;font-family:Menlo,'DejaVu Sans Mono',consolas,'Courier New',monospace\">┏━━━━━━━━━━━━━━━━━━━━━━━━━━━━━━━━━┳━━━━━━━━━━━━━━━━━━━━━━━━┳━━━━━━━━━━━━━━━┓\n",
       "┃<span style=\"font-weight: bold\"> Layer (type)                    </span>┃<span style=\"font-weight: bold\"> Output Shape           </span>┃<span style=\"font-weight: bold\">       Param # </span>┃\n",
       "┡━━━━━━━━━━━━━━━━━━━━━━━━━━━━━━━━━╇━━━━━━━━━━━━━━━━━━━━━━━━╇━━━━━━━━━━━━━━━┩\n",
       "│ dense (<span style=\"color: #0087ff; text-decoration-color: #0087ff\">Dense</span>)                   │ (<span style=\"color: #00d7ff; text-decoration-color: #00d7ff\">None</span>, <span style=\"color: #00af00; text-decoration-color: #00af00\">2</span>)              │            <span style=\"color: #00af00; text-decoration-color: #00af00\">10</span> │\n",
       "├─────────────────────────────────┼────────────────────────┼───────────────┤\n",
       "│ dense_1 (<span style=\"color: #0087ff; text-decoration-color: #0087ff\">Dense</span>)                 │ (<span style=\"color: #00d7ff; text-decoration-color: #00d7ff\">None</span>, <span style=\"color: #00af00; text-decoration-color: #00af00\">4</span>)              │            <span style=\"color: #00af00; text-decoration-color: #00af00\">12</span> │\n",
       "└─────────────────────────────────┴────────────────────────┴───────────────┘\n",
       "</pre>\n"
      ],
      "text/plain": [
       "┏━━━━━━━━━━━━━━━━━━━━━━━━━━━━━━━━━┳━━━━━━━━━━━━━━━━━━━━━━━━┳━━━━━━━━━━━━━━━┓\n",
       "┃\u001b[1m \u001b[0m\u001b[1mLayer (type)                   \u001b[0m\u001b[1m \u001b[0m┃\u001b[1m \u001b[0m\u001b[1mOutput Shape          \u001b[0m\u001b[1m \u001b[0m┃\u001b[1m \u001b[0m\u001b[1m      Param #\u001b[0m\u001b[1m \u001b[0m┃\n",
       "┡━━━━━━━━━━━━━━━━━━━━━━━━━━━━━━━━━╇━━━━━━━━━━━━━━━━━━━━━━━━╇━━━━━━━━━━━━━━━┩\n",
       "│ dense (\u001b[38;5;33mDense\u001b[0m)                   │ (\u001b[38;5;45mNone\u001b[0m, \u001b[38;5;34m2\u001b[0m)              │            \u001b[38;5;34m10\u001b[0m │\n",
       "├─────────────────────────────────┼────────────────────────┼───────────────┤\n",
       "│ dense_1 (\u001b[38;5;33mDense\u001b[0m)                 │ (\u001b[38;5;45mNone\u001b[0m, \u001b[38;5;34m4\u001b[0m)              │            \u001b[38;5;34m12\u001b[0m │\n",
       "└─────────────────────────────────┴────────────────────────┴───────────────┘\n"
      ]
     },
     "metadata": {},
     "output_type": "display_data"
    },
    {
     "data": {
      "text/html": [
       "<pre style=\"white-space:pre;overflow-x:auto;line-height:normal;font-family:Menlo,'DejaVu Sans Mono',consolas,'Courier New',monospace\"><span style=\"font-weight: bold\"> Total params: </span><span style=\"color: #00af00; text-decoration-color: #00af00\">22</span> (88.00 B)\n",
       "</pre>\n"
      ],
      "text/plain": [
       "\u001b[1m Total params: \u001b[0m\u001b[38;5;34m22\u001b[0m (88.00 B)\n"
      ]
     },
     "metadata": {},
     "output_type": "display_data"
    },
    {
     "data": {
      "text/html": [
       "<pre style=\"white-space:pre;overflow-x:auto;line-height:normal;font-family:Menlo,'DejaVu Sans Mono',consolas,'Courier New',monospace\"><span style=\"font-weight: bold\"> Trainable params: </span><span style=\"color: #00af00; text-decoration-color: #00af00\">22</span> (88.00 B)\n",
       "</pre>\n"
      ],
      "text/plain": [
       "\u001b[1m Trainable params: \u001b[0m\u001b[38;5;34m22\u001b[0m (88.00 B)\n"
      ]
     },
     "metadata": {},
     "output_type": "display_data"
    },
    {
     "data": {
      "text/html": [
       "<pre style=\"white-space:pre;overflow-x:auto;line-height:normal;font-family:Menlo,'DejaVu Sans Mono',consolas,'Courier New',monospace\"><span style=\"font-weight: bold\"> Non-trainable params: </span><span style=\"color: #00af00; text-decoration-color: #00af00\">0</span> (0.00 B)\n",
       "</pre>\n"
      ],
      "text/plain": [
       "\u001b[1m Non-trainable params: \u001b[0m\u001b[38;5;34m0\u001b[0m (0.00 B)\n"
      ]
     },
     "metadata": {},
     "output_type": "display_data"
    },
    {
     "name": "stdout",
     "output_type": "stream",
     "text": [
      "None\n"
     ]
    }
   ],
   "source": [
    "# test mltkc_stage_create_model\n",
    "model = init(df,param)\n",
    "print(model.summary())"
   ]
  },
  {
   "cell_type": "markdown",
   "metadata": {},
   "source": [
    "## Stage 3 - fit the model"
   ]
  },
  {
   "cell_type": "code",
   "execution_count": 7,
   "metadata": {
    "deletable": false,
    "name": "mltkc_fit"
   },
   "outputs": [],
   "source": [
    "# mltkc_stage_create_model_fit\n",
    "# returns a fit info json object\n",
    "def fit(model,df,param):\n",
    "    returns = {}\n",
    "    X = df[param['feature_variables']]\n",
    "    model_epochs = 100\n",
    "    model_batch_size = 32\n",
    "    if 'options' in param:\n",
    "        if 'params' in param['options']:\n",
    "            if 'epochs' in param['options']['params']:\n",
    "                model_epochs = int(param['options']['params']['epochs'])\n",
    "            if 'batch_size' in param['options']['params']:\n",
    "                model_batch_size = int(param['options']['params']['batch_size'])\n",
    "    # connect model training to tensorboard\n",
    "    log_dir=\"/srv/notebooks/logs/fit/\" + datetime.datetime.now().strftime(\"%Y%m%d-%H%M%S\")\n",
    "    tensorboard_callback = tf.keras.callbacks.TensorBoard(log_dir=log_dir, histogram_freq=1)\n",
    "    # run the training\n",
    "    returns['fit_history'] = model.fit(x=X,\n",
    "                                       y=X, \n",
    "                                       verbose=2, \n",
    "                                       epochs=model_epochs, \n",
    "                                       batch_size=model_batch_size, \n",
    "                                       #validation_data=(X, Y),\n",
    "                                       callbacks=[tensorboard_callback])\n",
    "    # memorize parameters\n",
    "    returns['model_epochs'] = model_epochs\n",
    "    returns['model_batch_size'] = model_batch_size\n",
    "    returns['model_loss_acc'] = model.evaluate(x = X, y = X)\n",
    "    return returns"
   ]
  },
  {
   "cell_type": "code",
   "execution_count": 8,
   "metadata": {
    "collapsed": true,
    "jupyter": {
     "outputs_hidden": true
    }
   },
   "outputs": [
    {
     "name": "stdout",
     "output_type": "stream",
     "text": [
      "Epoch 1/100\n",
      "38/38 - 1s - 26ms/step - accuracy: 0.0000e+00 - loss: 46.5630\n",
      "Epoch 2/100\n",
      "38/38 - 0s - 4ms/step - accuracy: 0.0000e+00 - loss: 33.0022\n",
      "Epoch 3/100\n",
      "38/38 - 0s - 3ms/step - accuracy: 0.0000e+00 - loss: 23.8413\n",
      "Epoch 4/100\n",
      "38/38 - 0s - 3ms/step - accuracy: 0.0000e+00 - loss: 17.6326\n",
      "Epoch 5/100\n",
      "38/38 - 0s - 3ms/step - accuracy: 0.0000e+00 - loss: 13.3247\n",
      "Epoch 6/100\n",
      "38/38 - 0s - 3ms/step - accuracy: 0.0000e+00 - loss: 10.3247\n",
      "Epoch 7/100\n",
      "38/38 - 0s - 3ms/step - accuracy: 0.0067 - loss: 8.1804\n",
      "Epoch 8/100\n",
      "38/38 - 0s - 3ms/step - accuracy: 0.2800 - loss: 6.6330\n",
      "Epoch 9/100\n",
      "38/38 - 0s - 3ms/step - accuracy: 0.7867 - loss: 5.4928\n",
      "Epoch 10/100\n",
      "38/38 - 0s - 3ms/step - accuracy: 0.9600 - loss: 4.6150\n",
      "Epoch 11/100\n",
      "38/38 - 0s - 3ms/step - accuracy: 1.0000 - loss: 3.9303\n",
      "Epoch 12/100\n",
      "38/38 - 0s - 3ms/step - accuracy: 1.0000 - loss: 3.3970\n",
      "Epoch 13/100\n",
      "38/38 - 0s - 4ms/step - accuracy: 1.0000 - loss: 2.9542\n",
      "Epoch 14/100\n",
      "38/38 - 0s - 3ms/step - accuracy: 1.0000 - loss: 2.6008\n",
      "Epoch 15/100\n",
      "38/38 - 0s - 3ms/step - accuracy: 1.0000 - loss: 2.3028\n",
      "Epoch 16/100\n",
      "38/38 - 0s - 3ms/step - accuracy: 1.0000 - loss: 2.0596\n",
      "Epoch 17/100\n",
      "38/38 - 0s - 3ms/step - accuracy: 1.0000 - loss: 1.8478\n",
      "Epoch 18/100\n",
      "38/38 - 0s - 3ms/step - accuracy: 1.0000 - loss: 1.6721\n",
      "Epoch 19/100\n",
      "38/38 - 0s - 4ms/step - accuracy: 1.0000 - loss: 1.5203\n",
      "Epoch 20/100\n",
      "38/38 - 0s - 3ms/step - accuracy: 1.0000 - loss: 1.3909\n",
      "Epoch 21/100\n",
      "38/38 - 0s - 3ms/step - accuracy: 1.0000 - loss: 1.2803\n",
      "Epoch 22/100\n",
      "38/38 - 0s - 3ms/step - accuracy: 1.0000 - loss: 1.1852\n",
      "Epoch 23/100\n",
      "38/38 - 0s - 3ms/step - accuracy: 1.0000 - loss: 1.1043\n",
      "Epoch 24/100\n",
      "38/38 - 0s - 3ms/step - accuracy: 1.0000 - loss: 1.0349\n",
      "Epoch 25/100\n",
      "38/38 - 0s - 3ms/step - accuracy: 1.0000 - loss: 0.9746\n",
      "Epoch 26/100\n",
      "38/38 - 0s - 3ms/step - accuracy: 1.0000 - loss: 0.9231\n",
      "Epoch 27/100\n",
      "38/38 - 0s - 4ms/step - accuracy: 1.0000 - loss: 0.8782\n",
      "Epoch 28/100\n",
      "38/38 - 0s - 3ms/step - accuracy: 1.0000 - loss: 0.8398\n",
      "Epoch 29/100\n",
      "38/38 - 0s - 3ms/step - accuracy: 1.0000 - loss: 0.8067\n",
      "Epoch 30/100\n",
      "38/38 - 0s - 4ms/step - accuracy: 1.0000 - loss: 0.7779\n",
      "Epoch 31/100\n",
      "38/38 - 0s - 4ms/step - accuracy: 1.0000 - loss: 0.7530\n",
      "Epoch 32/100\n",
      "38/38 - 0s - 4ms/step - accuracy: 1.0000 - loss: 0.7313\n",
      "Epoch 33/100\n",
      "38/38 - 0s - 3ms/step - accuracy: 1.0000 - loss: 0.7125\n",
      "Epoch 34/100\n",
      "38/38 - 0s - 3ms/step - accuracy: 1.0000 - loss: 0.6965\n",
      "Epoch 35/100\n",
      "38/38 - 0s - 3ms/step - accuracy: 1.0000 - loss: 0.6802\n",
      "Epoch 36/100\n",
      "38/38 - 0s - 3ms/step - accuracy: 1.0000 - loss: 0.6668\n",
      "Epoch 37/100\n",
      "38/38 - 0s - 3ms/step - accuracy: 1.0000 - loss: 0.6549\n",
      "Epoch 38/100\n",
      "38/38 - 0s - 3ms/step - accuracy: 1.0000 - loss: 0.6442\n",
      "Epoch 39/100\n",
      "38/38 - 0s - 3ms/step - accuracy: 1.0000 - loss: 0.6340\n",
      "Epoch 40/100\n",
      "38/38 - 0s - 3ms/step - accuracy: 1.0000 - loss: 0.6252\n",
      "Epoch 41/100\n",
      "38/38 - 0s - 3ms/step - accuracy: 1.0000 - loss: 0.6163\n",
      "Epoch 42/100\n",
      "38/38 - 0s - 3ms/step - accuracy: 1.0000 - loss: 0.6085\n",
      "Epoch 43/100\n",
      "38/38 - 0s - 3ms/step - accuracy: 1.0000 - loss: 0.6002\n",
      "Epoch 44/100\n",
      "38/38 - 0s - 3ms/step - accuracy: 1.0000 - loss: 0.5937\n",
      "Epoch 45/100\n",
      "38/38 - 0s - 3ms/step - accuracy: 1.0000 - loss: 0.5866\n",
      "Epoch 46/100\n",
      "38/38 - 0s - 3ms/step - accuracy: 1.0000 - loss: 0.5789\n",
      "Epoch 47/100\n",
      "38/38 - 0s - 3ms/step - accuracy: 1.0000 - loss: 0.5722\n",
      "Epoch 48/100\n",
      "38/38 - 0s - 3ms/step - accuracy: 1.0000 - loss: 0.5662\n",
      "Epoch 49/100\n",
      "38/38 - 0s - 3ms/step - accuracy: 1.0000 - loss: 0.5595\n",
      "Epoch 50/100\n",
      "38/38 - 0s - 3ms/step - accuracy: 1.0000 - loss: 0.5536\n",
      "Epoch 51/100\n",
      "38/38 - 0s - 3ms/step - accuracy: 1.0000 - loss: 0.5474\n",
      "Epoch 52/100\n",
      "38/38 - 0s - 4ms/step - accuracy: 1.0000 - loss: 0.5411\n",
      "Epoch 53/100\n",
      "38/38 - 0s - 3ms/step - accuracy: 1.0000 - loss: 0.5343\n",
      "Epoch 54/100\n",
      "38/38 - 0s - 3ms/step - accuracy: 1.0000 - loss: 0.5282\n",
      "Epoch 55/100\n",
      "38/38 - 0s - 3ms/step - accuracy: 1.0000 - loss: 0.5222\n",
      "Epoch 56/100\n",
      "38/38 - 0s - 3ms/step - accuracy: 1.0000 - loss: 0.5170\n",
      "Epoch 57/100\n",
      "38/38 - 0s - 3ms/step - accuracy: 1.0000 - loss: 0.5108\n",
      "Epoch 58/100\n",
      "38/38 - 0s - 4ms/step - accuracy: 1.0000 - loss: 0.5044\n",
      "Epoch 59/100\n",
      "38/38 - 0s - 3ms/step - accuracy: 1.0000 - loss: 0.5000\n",
      "Epoch 60/100\n",
      "38/38 - 0s - 3ms/step - accuracy: 1.0000 - loss: 0.4928\n",
      "Epoch 61/100\n",
      "38/38 - 0s - 4ms/step - accuracy: 1.0000 - loss: 0.4876\n",
      "Epoch 62/100\n",
      "38/38 - 0s - 4ms/step - accuracy: 1.0000 - loss: 0.4815\n",
      "Epoch 63/100\n",
      "38/38 - 0s - 4ms/step - accuracy: 1.0000 - loss: 0.4760\n",
      "Epoch 64/100\n",
      "38/38 - 0s - 3ms/step - accuracy: 1.0000 - loss: 0.4704\n",
      "Epoch 65/100\n",
      "38/38 - 0s - 3ms/step - accuracy: 1.0000 - loss: 0.4653\n",
      "Epoch 66/100\n",
      "38/38 - 0s - 3ms/step - accuracy: 1.0000 - loss: 0.4593\n",
      "Epoch 67/100\n",
      "38/38 - 0s - 3ms/step - accuracy: 1.0000 - loss: 0.4534\n",
      "Epoch 68/100\n",
      "38/38 - 0s - 3ms/step - accuracy: 1.0000 - loss: 0.4482\n",
      "Epoch 69/100\n",
      "38/38 - 0s - 3ms/step - accuracy: 1.0000 - loss: 0.4424\n",
      "Epoch 70/100\n",
      "38/38 - 0s - 3ms/step - accuracy: 1.0000 - loss: 0.4368\n",
      "Epoch 71/100\n",
      "38/38 - 0s - 3ms/step - accuracy: 1.0000 - loss: 0.4312\n",
      "Epoch 72/100\n",
      "38/38 - 0s - 3ms/step - accuracy: 1.0000 - loss: 0.4256\n",
      "Epoch 73/100\n",
      "38/38 - 0s - 3ms/step - accuracy: 1.0000 - loss: 0.4198\n",
      "Epoch 74/100\n",
      "38/38 - 0s - 4ms/step - accuracy: 1.0000 - loss: 0.4144\n",
      "Epoch 75/100\n",
      "38/38 - 0s - 4ms/step - accuracy: 1.0000 - loss: 0.4093\n",
      "Epoch 76/100\n",
      "38/38 - 0s - 4ms/step - accuracy: 1.0000 - loss: 0.4033\n",
      "Epoch 77/100\n",
      "38/38 - 0s - 4ms/step - accuracy: 1.0000 - loss: 0.3984\n",
      "Epoch 78/100\n",
      "38/38 - 0s - 4ms/step - accuracy: 1.0000 - loss: 0.3921\n",
      "Epoch 79/100\n",
      "38/38 - 0s - 4ms/step - accuracy: 1.0000 - loss: 0.3870\n",
      "Epoch 80/100\n",
      "38/38 - 0s - 3ms/step - accuracy: 1.0000 - loss: 0.3814\n",
      "Epoch 81/100\n",
      "38/38 - 0s - 4ms/step - accuracy: 1.0000 - loss: 0.3756\n",
      "Epoch 82/100\n",
      "38/38 - 0s - 4ms/step - accuracy: 1.0000 - loss: 0.3713\n",
      "Epoch 83/100\n",
      "38/38 - 0s - 5ms/step - accuracy: 1.0000 - loss: 0.3652\n",
      "Epoch 84/100\n",
      "38/38 - 0s - 5ms/step - accuracy: 1.0000 - loss: 0.3593\n",
      "Epoch 85/100\n",
      "38/38 - 0s - 6ms/step - accuracy: 1.0000 - loss: 0.3534\n",
      "Epoch 86/100\n",
      "38/38 - 0s - 6ms/step - accuracy: 1.0000 - loss: 0.3482\n",
      "Epoch 87/100\n",
      "38/38 - 0s - 5ms/step - accuracy: 1.0000 - loss: 0.3425\n",
      "Epoch 88/100\n",
      "38/38 - 0s - 5ms/step - accuracy: 1.0000 - loss: 0.3371\n",
      "Epoch 89/100\n",
      "38/38 - 0s - 4ms/step - accuracy: 1.0000 - loss: 0.3311\n",
      "Epoch 90/100\n",
      "38/38 - 0s - 4ms/step - accuracy: 1.0000 - loss: 0.3253\n",
      "Epoch 91/100\n",
      "38/38 - 0s - 4ms/step - accuracy: 1.0000 - loss: 0.3196\n",
      "Epoch 92/100\n",
      "38/38 - 0s - 4ms/step - accuracy: 1.0000 - loss: 0.3136\n",
      "Epoch 93/100\n",
      "38/38 - 0s - 4ms/step - accuracy: 1.0000 - loss: 0.3076\n",
      "Epoch 94/100\n",
      "38/38 - 0s - 4ms/step - accuracy: 1.0000 - loss: 0.3013\n",
      "Epoch 95/100\n",
      "38/38 - 0s - 4ms/step - accuracy: 1.0000 - loss: 0.2956\n",
      "Epoch 96/100\n",
      "38/38 - 0s - 4ms/step - accuracy: 1.0000 - loss: 0.2904\n",
      "Epoch 97/100\n",
      "38/38 - 0s - 4ms/step - accuracy: 1.0000 - loss: 0.2843\n",
      "Epoch 98/100\n",
      "38/38 - 0s - 4ms/step - accuracy: 1.0000 - loss: 0.2785\n",
      "Epoch 99/100\n",
      "38/38 - 0s - 4ms/step - accuracy: 1.0000 - loss: 0.2716\n",
      "Epoch 100/100\n",
      "38/38 - 0s - 4ms/step - accuracy: 1.0000 - loss: 0.2658\n",
      "\u001b[1m5/5\u001b[0m \u001b[32m━━━━━━━━━━━━━━━━━━━━\u001b[0m\u001b[37m\u001b[0m \u001b[1m0s\u001b[0m 2ms/step - accuracy: 1.0000 - loss: 0.3613  \n",
      "[0.26225897669792175, 1.0]\n"
     ]
    }
   ],
   "source": [
    "returns = fit(model,df,param)\n",
    "print(returns['model_loss_acc'])"
   ]
  },
  {
   "cell_type": "code",
   "execution_count": 14,
   "metadata": {},
   "outputs": [
    {
     "data": {
      "text/plain": [
       "[<KerasTensor shape=(None, 4), dtype=float32, sparse=None, name=keras_tensor>]"
      ]
     },
     "execution_count": 14,
     "metadata": {},
     "output_type": "execute_result"
    }
   ],
   "source": [
    "dir(model)\n",
    "model.inputs"
   ]
  },
  {
   "cell_type": "markdown",
   "metadata": {},
   "source": [
    "## Stage 4 - apply the model"
   ]
  },
  {
   "cell_type": "code",
   "execution_count": 15,
   "metadata": {
    "deletable": false,
    "name": "mltkc_apply"
   },
   "outputs": [],
   "source": [
    "# mltkc_stage_create_model_apply\n",
    "def apply(model,df,param):\n",
    "    X = df[param['feature_variables']]\n",
    "    reconstruction = model.predict(x = X)\n",
    "    intermediate_layer_model = keras.Model(inputs=model.inputs, outputs=model.layers[0].output)\n",
    "    hidden = intermediate_layer_model.predict(x = X)\n",
    "    y_hat = pd.concat([pd.DataFrame(reconstruction).add_prefix(\"reconstruction_\"), pd.DataFrame(hidden).add_prefix(\"hidden_\")], axis=1)\n",
    "    return y_hat"
   ]
  },
  {
   "cell_type": "code",
   "execution_count": 16,
   "metadata": {},
   "outputs": [
    {
     "name": "stdout",
     "output_type": "stream",
     "text": [
      "\u001b[1m5/5\u001b[0m \u001b[32m━━━━━━━━━━━━━━━━━━━━\u001b[0m\u001b[37m\u001b[0m \u001b[1m0s\u001b[0m 1ms/step \n",
      "\u001b[1m5/5\u001b[0m \u001b[32m━━━━━━━━━━━━━━━━━━━━\u001b[0m\u001b[37m\u001b[0m \u001b[1m0s\u001b[0m 4ms/step \n",
      "     reconstruction_0  reconstruction_1  reconstruction_2  reconstruction_3  \\\n",
      "0            2.120456          0.785697          4.074873          2.693462   \n",
      "1            2.107639          0.722653          4.012266          2.558842   \n",
      "2            1.998948          0.690182          3.908722          2.539497   \n",
      "3            2.100163          0.692428          3.981321          2.494955   \n",
      "4            2.095052          0.775607          4.048545          2.683353   \n",
      "..                ...               ...               ...               ...   \n",
      "145          5.101612          1.720695          6.952622          3.323231   \n",
      "146          4.850245          1.555095          6.636131          3.076226   \n",
      "147          4.999534          1.654109          6.824662          3.224406   \n",
      "148          5.095782          1.688707          6.921326          3.254595   \n",
      "149          4.780374          1.521764          6.558967          3.035952   \n",
      "\n",
      "     hidden_0  hidden_1  \n",
      "0    2.087848  4.849528  \n",
      "1    2.102417  4.579607  \n",
      "2    1.973935  4.468644  \n",
      "3    2.107629  4.450568  \n",
      "4    2.059072  4.812749  \n",
      "..        ...       ...  \n",
      "145  5.589584  8.085503  \n",
      "146  5.337868  7.436332  \n",
      "147  5.487031  7.824755  \n",
      "148  5.597874  7.948359  \n",
      "149  5.261526  7.310972  \n",
      "\n",
      "[150 rows x 6 columns]\n"
     ]
    }
   ],
   "source": [
    "# test mltkc_stage_create_model_apply\n",
    "y_hat = apply(model,df,param)\n",
    "print(y_hat)"
   ]
  },
  {
   "cell_type": "markdown",
   "metadata": {},
   "source": [
    "## Stage 5 - save the model"
   ]
  },
  {
   "cell_type": "code",
   "execution_count": 11,
   "metadata": {
    "deletable": false,
    "name": "mltkc_save"
   },
   "outputs": [],
   "source": [
    "# save model to name in expected convention \"<algo_name>_<model_name>.h5\"\n",
    "def save(model,name):\n",
    "    # save keras model to hdf5 file\n",
    "    # https://www.tensorflow.org/beta/tutorials/keras/save_and_restore_models\n",
    "    model.save(MODEL_DIRECTORY + name + \".keras\")\n",
    "    return model"
   ]
  },
  {
   "cell_type": "code",
   "execution_count": 12,
   "metadata": {},
   "outputs": [
    {
     "data": {
      "text/plain": [
       "<keras.src.engine.sequential.Sequential at 0x7f83cdb151c0>"
      ]
     },
     "execution_count": 12,
     "metadata": {},
     "output_type": "execute_result"
    }
   ],
   "source": [
    "save(model,\"autoencoder_iris_autoencoder\")"
   ]
  },
  {
   "cell_type": "markdown",
   "metadata": {},
   "source": [
    "## Stage 6 - load the model"
   ]
  },
  {
   "cell_type": "code",
   "execution_count": 13,
   "metadata": {
    "deletable": false,
    "name": "mltkc_load"
   },
   "outputs": [],
   "source": [
    "# load model from name in expected convention \"<algo_name>_<model_name>.h5\"\n",
    "def load(name):\n",
    "    model = keras.models.load_model(MODEL_DIRECTORY + name + \".keras\")\n",
    "    return model"
   ]
  },
  {
   "cell_type": "code",
   "execution_count": 14,
   "metadata": {},
   "outputs": [
    {
     "data": {
      "text/plain": [
       "<keras.src.engine.sequential.Sequential at 0x7f83c40cfac0>"
      ]
     },
     "execution_count": 14,
     "metadata": {},
     "output_type": "execute_result"
    }
   ],
   "source": [
    "model2 = load(\"autoencoder_iris_autoencoder\")\n",
    "model2"
   ]
  },
  {
   "cell_type": "markdown",
   "metadata": {},
   "source": [
    "## Stage 7 - provide a summary of the model"
   ]
  },
  {
   "cell_type": "code",
   "execution_count": 15,
   "metadata": {
    "deletable": false,
    "name": "mltkc_summary"
   },
   "outputs": [],
   "source": [
    "# return model summary\n",
    "def summary(model=None):\n",
    "    returns = {\"version\": {\"tensorflow\": tf.__version__, \"keras\": keras.__version__} }\n",
    "    if model is not None:\n",
    "        # Save keras model summary to string:\n",
    "        s = []\n",
    "        model.summary(print_fn=lambda x: s.append(x+'\\n'))\n",
    "        returns[\"summary\"] = ''.join(s)\n",
    "    return returns"
   ]
  },
  {
   "cell_type": "code",
   "execution_count": 16,
   "metadata": {},
   "outputs": [
    {
     "data": {
      "text/plain": [
       "{'version': {'tensorflow': '2.15.0', 'keras': '2.15.0'},\n",
       " 'summary': 'Model: \"sequential\"\\n_________________________________________________________________\\n Layer (type)                Output Shape              Param #   \\n=================================================================\\n dense (Dense)               (None, 2)                 10        \\n                                                                 \\n dense_1 (Dense)             (None, 4)                 12        \\n                                                                 \\n=================================================================\\nTotal params: 22 (88.00 Byte)\\nTrainable params: 22 (88.00 Byte)\\nNon-trainable params: 0 (0.00 Byte)\\n_________________________________________________________________\\n'}"
      ]
     },
     "execution_count": 16,
     "metadata": {},
     "output_type": "execute_result"
    }
   ],
   "source": [
    "summary(model)"
   ]
  },
  {
   "cell_type": "markdown",
   "metadata": {},
   "source": [
    "## End of Stages\n",
    "All subsequent cells are not tagged and can be used for further freeform code"
   ]
  },
  {
   "cell_type": "code",
   "execution_count": null,
   "metadata": {},
   "outputs": [],
   "source": []
  }
 ],
 "metadata": {
  "kernelspec": {
   "display_name": "Python 3 (ipykernel)",
   "language": "python",
   "name": "python3"
  },
  "language_info": {
   "codemirror_mode": {
    "name": "ipython",
    "version": 3
   },
   "file_extension": ".py",
   "mimetype": "text/x-python",
   "name": "python",
   "nbconvert_exporter": "python",
   "pygments_lexer": "ipython3",
   "version": "3.9.21"
  }
 },
 "nbformat": 4,
 "nbformat_minor": 4
}
