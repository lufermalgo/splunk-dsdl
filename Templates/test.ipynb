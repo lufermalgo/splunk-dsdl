{
 "cells": [
  {
   "cell_type": "code",
   "execution_count": 25,
   "id": "47ce4803-3a6c-49a1-a9a0-38a875a3dac0",
   "metadata": {},
   "outputs": [
    {
     "name": "stdout",
     "output_type": "stream",
     "text": [
      "🧪 Test 1: Importando helpers\n",
      "\n",
      "✅ telemetry_helper importado\n",
      "✅ metrics_calculator importado\n",
      "✅ preprocessor importado\n",
      "✅ splunk_connector importado\n"
     ]
    }
   ],
   "source": [
    "import sys\n",
    "sys.path.append(\"/srv/notebooks_custom/helpers\")\n",
    "\n",
    "print(\"🧪 Test 1: Importando helpers\\n\")\n",
    "\n",
    "try:\n",
    "    from telemetry_helper import log_metrics, log_training_step\n",
    "    print(\"✅ telemetry_helper importado\")\n",
    "except ImportError as e:\n",
    "    print(f\"❌ Error telemetry: {e}\")\n",
    "\n",
    "try:\n",
    "    from metrics_calculator import calculate_all_metrics\n",
    "    print(\"✅ metrics_calculator importado\")\n",
    "except ImportError as e:\n",
    "    print(f\"❌ Error metrics: {e}\")\n",
    "\n",
    "try:\n",
    "    from preprocessor import standard_preprocessing\n",
    "    print(\"✅ preprocessor importado\")\n",
    "except ImportError as e:\n",
    "    print(f\"❌ Error preprocessor: {e}\")\n",
    "\n",
    "try:\n",
    "    from splunk_connector import validate_splunk_config\n",
    "    print(\"✅ splunk_connector importado\")\n",
    "except ImportError as e:\n",
    "    print(f\"❌ Error connector: {e}\")"
   ]
  },
  {
   "cell_type": "code",
   "execution_count": 26,
   "id": "aae21e07-4d20-4bda-bea8-833601616677",
   "metadata": {},
   "outputs": [
    {
     "name": "stdout",
     "output_type": "stream",
     "text": [
      "\n",
      "🧪 Test 2: Verificando aeon\n",
      "\n",
      "✅ aeon version: 1.1.0\n",
      "✅ aeon ubicación: /usr/local/lib/python3.9/site-packages/aeon/__init__.py\n"
     ]
    }
   ],
   "source": [
    "# Test aeon\n",
    "print(\"\\n🧪 Test 2: Verificando aeon\\n\")\n",
    "\n",
    "try:\n",
    "    import aeon\n",
    "    print(f\"✅ aeon version: {aeon.__version__}\")\n",
    "    print(f\"✅ aeon ubicación: {aeon.__file__}\")\n",
    "except ImportError as e:\n",
    "    print(f\"❌ Error importando aeon: {e}\")"
   ]
  },
  {
   "cell_type": "code",
   "execution_count": 27,
   "id": "462b8c48-d7be-4944-9740-8b953b4e62b9",
   "metadata": {},
   "outputs": [
    {
     "name": "stdout",
     "output_type": "stream",
     "text": [
      "\n",
      "🧪 Test 3: Probando metrics_calculator\n",
      "\n",
      "Accuracy: 0.800\n",
      "F1: 0.800\n",
      "Precision: 0.867\n",
      "Recall: 0.800\n"
     ]
    }
   ],
   "source": [
    "# Test cálculo de métricas\n",
    "print(\"\\n🧪 Test 3: Probando metrics_calculator\\n\")\n",
    "\n",
    "from metrics_calculator import calculate_all_metrics\n",
    "import numpy as np\n",
    "\n",
    "# Datos de prueba\n",
    "y_true = np.array([1, 1, 0, 0, 1])\n",
    "y_pred = np.array([1, 0, 0, 0, 1])\n",
    "\n",
    "metrics = calculate_all_metrics(y_true, y_pred)\n",
    "print(f\"Accuracy: {metrics['accuracy']:.3f}\")\n",
    "print(f\"F1: {metrics['f1']:.3f}\")\n",
    "print(f\"Precision: {metrics['precision']:.3f}\")\n",
    "print(f\"Recall: {metrics['recall']:.3f}\")"
   ]
  },
  {
   "cell_type": "code",
   "execution_count": 28,
   "id": "75ca01dc-1090-449d-8feb-c97aceca63a4",
   "metadata": {},
   "outputs": [
    {
     "name": "stdout",
     "output_type": "stream",
     "text": [
      "\n",
      "🧪 Test 4: Probando preprocessor\n",
      "\n",
      "Shape original: (10, 5)\n",
      "Shape procesado: (10, 5)\n",
      "✅ Preprocesamiento exitoso\n"
     ]
    }
   ],
   "source": [
    "# Test preprocesamiento\n",
    "print(\"\\n🧪 Test 4: Probando preprocessor\\n\")\n",
    "\n",
    "from preprocessor import standard_preprocessing\n",
    "import pandas as pd\n",
    "import numpy as np\n",
    "\n",
    "# Datos sintéticos\n",
    "df = pd.DataFrame(np.random.rand(10, 5), columns=[f'feature_{i}' for i in range(5)])\n",
    "print(f\"Shape original: {df.shape}\")\n",
    "\n",
    "X_processed, scaler = standard_preprocessing(df)\n",
    "print(f\"Shape procesado: {X_processed.shape}\")\n",
    "print(f\"✅ Preprocesamiento exitoso\")"
   ]
  },
  {
   "cell_type": "code",
   "execution_count": null,
   "id": "ba43a39a-956d-4088-b57a-4154c0480d57",
   "metadata": {},
   "outputs": [],
   "source": [
    "# Test telemetría (simulación)\n",
    "print(\"\\n🧪 Test 5: Probando telemetry_helper (MOCK)\\n\")\n",
    "\n",
    "from telemetry_helper import log_metrics\n",
    "\n",
    "# Simular envío de métricas (no enviará realmente a Splunk sin HEC)\n",
    "log_metrics(\n",
    "    model_name=\"test_fernando\",\n",
    "    r2_score=0.95,\n",
    "    accuracy=0.92,\n",
    "    f1_score=0.90,\n",
    "    mae=0.05,\n",
    "    rmse=0.08\n",
    ")\n",
    "\n",
    "print(\"✅ Telemetría mock ejecutada Fernando\")"
   ]
  }
 ],
 "metadata": {
  "kernelspec": {
   "display_name": "Python 3 (ipykernel)",
   "language": "python",
   "name": "python3"
  },
  "language_info": {
   "codemirror_mode": {
    "name": "ipython",
    "version": 3
   },
   "file_extension": ".py",
   "mimetype": "text/x-python",
   "name": "python",
   "nbconvert_exporter": "python",
   "pygments_lexer": "ipython3",
   "version": "3.9.21"
  }
 },
 "nbformat": 4,
 "nbformat_minor": 5
}
