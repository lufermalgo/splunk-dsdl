{
 "cells": [
  {
   "cell_type": "markdown",
   "metadata": {},
   "source": [
    "# Revisemos los datos"
   ]
  },
  {
   "cell_type": "code",
   "execution_count": 35,
   "metadata": {},
   "outputs": [],
   "source": [
    "import os\n",
    "import matplotlib.pyplot as plt\n",
    "import numpy as np\n",
    "import re"
   ]
  },
  {
   "cell_type": "code",
   "execution_count": 2,
   "metadata": {},
   "outputs": [],
   "source": [
    "def archivos_data_frames(path_stage):\n",
    "    data_frames=[]\n",
    "    with os.scandir(path_stage) as ficheros:\n",
    "        for fichero in ficheros:\n",
    "            data_frames.append(fichero.name)\n",
    "    return data_frames\n",
    "\n",
    "def file_size(path,data_frames):\n",
    "    sizes=[]\n",
    "    for _ in data_frames:\n",
    "        sizes.append(os.path.getsize(path+_))\n",
    "    return sizes"
   ]
  },
  {
   "cell_type": "code",
   "execution_count": 22,
   "metadata": {},
   "outputs": [],
   "source": [
    "def calcular_outliers(data,sd): \n",
    "    # Convertir los datos a un array de numpy \n",
    "    Q1 = np.percentile(data, 25) \n",
    "    Q3 = np.percentile(data, 75)\n",
    "    IQR = Q3 - Q1 # Definir los límites para los outliers \n",
    "    lower_bound = Q1 - sd * IQR \n",
    "    upper_bound = Q3 + sd * IQR # Identificar los outliers \n",
    "    outliers = data[(data < lower_bound) | (data > upper_bound)] \n",
    "    pos=np.where((data < lower_bound) | (data > upper_bound))\n",
    "    return outliers,pos"
   ]
  },
  {
   "cell_type": "code",
   "execution_count": 5,
   "metadata": {},
   "outputs": [],
   "source": [
    "path_stage='C:/Users/ccollazos/Downloads/Corona/stage/'\n",
    "archivos=archivos_data_frames(path_stage)"
   ]
  },
  {
   "cell_type": "code",
   "execution_count": 7,
   "metadata": {},
   "outputs": [],
   "source": [
    "tamanos=np.array(file_size(path_stage,archivos))"
   ]
  },
  {
   "cell_type": "code",
   "execution_count": 27,
   "metadata": {},
   "outputs": [],
   "source": [
    "out, pos=calcular_outliers(tamanos,1.5)"
   ]
  },
  {
   "cell_type": "code",
   "execution_count": 28,
   "metadata": {},
   "outputs": [],
   "source": [
    "nombres=np.array(archivos)"
   ]
  },
  {
   "cell_type": "code",
   "execution_count": 33,
   "metadata": {},
   "outputs": [
    {
     "data": {
      "text/plain": [
       "0.1407185628742515"
      ]
     },
     "execution_count": 33,
     "metadata": {},
     "output_type": "execute_result"
    }
   ],
   "source": [
    "nombres[pos].shape[0]/nombres.shape[0]"
   ]
  },
  {
   "cell_type": "code",
   "execution_count": 47,
   "metadata": {},
   "outputs": [
    {
     "data": {
      "text/plain": [
       "array(['2024_10_26.csv', '2024_11_26.csv', '2024_12_1.csv',\n",
       "       '2024_12_4.csv', '2024_1_24.csv', '2024_1_26.csv', '2024_1_4.csv',\n",
       "       '2024_2_16.csv', '2024_2_28.csv', '2024_2_30.csv', '2024_2_31.csv',\n",
       "       '2024_3_1.csv', '2024_3_24.csv', '2024_4_16.csv', '2024_4_24.csv',\n",
       "       '2024_4_4.csv', '2024_4_7.csv', '2024_5_10.csv', '2024_5_8.csv',\n",
       "       '2024_6_13.csv', '2024_6_17.csv', '2024_6_18.csv', '2024_6_19.csv',\n",
       "       '2024_6_20.csv', '2024_6_21.csv', '2024_6_22.csv', '2024_6_23.csv',\n",
       "       '2024_6_24.csv', '2024_6_25.csv', '2024_6_26.csv', '2024_6_27.csv',\n",
       "       '2024_6_29.csv', '2024_6_4.csv', '2024_7_15.csv', '2024_7_16.csv',\n",
       "       '2024_7_18.csv', '2024_7_24.csv', '2024_7_29.csv', '2024_7_4.csv',\n",
       "       '2024_7_5.csv', '2024_7_8.csv', '2024_8_10.csv', '2024_8_2.csv',\n",
       "       '2024_8_24.csv', '2024_8_8.csv', '2024_9_10.csv', '2024_9_23.csv'],\n",
       "      dtype='<U14')"
      ]
     },
     "execution_count": 47,
     "metadata": {},
     "output_type": "execute_result"
    }
   ],
   "source": [
    "nombres[pos]\n"
   ]
  },
  {
   "cell_type": "code",
   "execution_count": 162,
   "metadata": {},
   "outputs": [],
   "source": [
    "def formarar_dia(nombre_archivo):\n",
    "    fecha=nombre_archivo[:-4]\n",
    "    fecha=fecha.split('_')\n",
    "    mes=fecha[1]\n",
    "    dia=fecha[2]\n",
    "    if len(mes)<2:\n",
    "        mes='0'+mes\n",
    "    if len(dia)<2:\n",
    "        dia='0'+dia\n",
    "    else:\n",
    "        pass\n",
    "    return fecha[0]+'-'+mes+'-'+dia"
   ]
  },
  {
   "cell_type": "markdown",
   "metadata": {},
   "source": [
    "# Data Frame"
   ]
  },
  {
   "cell_type": "code",
   "execution_count": 1,
   "metadata": {},
   "outputs": [],
   "source": [
    "import pandas as pd\n"
   ]
  },
  {
   "cell_type": "code",
   "execution_count": 2,
   "metadata": {},
   "outputs": [],
   "source": [
    "archivo='C:/Users/ccollazos/Documents/Summan/ejemplo_01.csv'"
   ]
  },
  {
   "cell_type": "code",
   "execution_count": 3,
   "metadata": {},
   "outputs": [],
   "source": [
    "df=pd.read_csv(archivo, index_col=['Fecha'])"
   ]
  },
  {
   "cell_type": "code",
   "execution_count": 4,
   "metadata": {},
   "outputs": [],
   "source": [
    "df.index = pd.to_datetime(df.index, format='%Y-%m-%d %H:%M:%S', )"
   ]
  },
  {
   "cell_type": "code",
   "execution_count": 5,
   "metadata": {},
   "outputs": [],
   "source": [
    "df.sort_index(inplace=True)"
   ]
  },
  {
   "cell_type": "code",
   "execution_count": 6,
   "metadata": {},
   "outputs": [
    {
     "data": {
      "text/html": [
       "<div>\n",
       "<style scoped>\n",
       "    .dataframe tbody tr th:only-of-type {\n",
       "        vertical-align: middle;\n",
       "    }\n",
       "\n",
       "    .dataframe tbody tr th {\n",
       "        vertical-align: top;\n",
       "    }\n",
       "\n",
       "    .dataframe thead th {\n",
       "        text-align: right;\n",
       "    }\n",
       "</style>\n",
       "<table border=\"1\" class=\"dataframe\">\n",
       "  <thead>\n",
       "    <tr style=\"text-align: right;\">\n",
       "      <th></th>\n",
       "      <th>conteo</th>\n",
       "      <th>Carro</th>\n",
       "      <th>Tiempo_paro</th>\n",
       "      <th>Hora_primer_carro</th>\n",
       "      <th>id</th>\n",
       "    </tr>\n",
       "    <tr>\n",
       "      <th>Fecha</th>\n",
       "      <th></th>\n",
       "      <th></th>\n",
       "      <th></th>\n",
       "      <th></th>\n",
       "      <th></th>\n",
       "    </tr>\n",
       "  </thead>\n",
       "  <tbody>\n",
       "    <tr>\n",
       "      <th>2024-01-01 06:10:50</th>\n",
       "      <td>6315</td>\n",
       "      <td>48.0</td>\n",
       "      <td>0.0</td>\n",
       "      <td>06:10:50</td>\n",
       "      <td>2024_1_1.csv_06:10:50</td>\n",
       "    </tr>\n",
       "    <tr>\n",
       "      <th>2024-01-01 06:24:17</th>\n",
       "      <td>6316</td>\n",
       "      <td>7.0</td>\n",
       "      <td>0.0</td>\n",
       "      <td>06:10:50</td>\n",
       "      <td>2024_1_1.csv_06:10:50</td>\n",
       "    </tr>\n",
       "    <tr>\n",
       "      <th>2024-01-01 06:37:44</th>\n",
       "      <td>6317</td>\n",
       "      <td>37.0</td>\n",
       "      <td>0.0</td>\n",
       "      <td>06:10:50</td>\n",
       "      <td>2024_1_1.csv_06:10:50</td>\n",
       "    </tr>\n",
       "    <tr>\n",
       "      <th>2024-01-01 06:51:12</th>\n",
       "      <td>6318</td>\n",
       "      <td>77.0</td>\n",
       "      <td>0.0</td>\n",
       "      <td>06:10:50</td>\n",
       "      <td>2024_1_1.csv_06:10:50</td>\n",
       "    </tr>\n",
       "    <tr>\n",
       "      <th>2024-01-01 07:04:39</th>\n",
       "      <td>6319</td>\n",
       "      <td>82.0</td>\n",
       "      <td>0.0</td>\n",
       "      <td>06:10:50</td>\n",
       "      <td>2024_1_1.csv_06:10:50</td>\n",
       "    </tr>\n",
       "  </tbody>\n",
       "</table>\n",
       "</div>"
      ],
      "text/plain": [
       "                     conteo Carro  Tiempo_paro Hora_primer_carro  \\\n",
       "Fecha                                                              \n",
       "2024-01-01 06:10:50    6315  48.0          0.0          06:10:50   \n",
       "2024-01-01 06:24:17    6316   7.0          0.0          06:10:50   \n",
       "2024-01-01 06:37:44    6317  37.0          0.0          06:10:50   \n",
       "2024-01-01 06:51:12    6318  77.0          0.0          06:10:50   \n",
       "2024-01-01 07:04:39    6319  82.0          0.0          06:10:50   \n",
       "\n",
       "                                        id  \n",
       "Fecha                                       \n",
       "2024-01-01 06:10:50  2024_1_1.csv_06:10:50  \n",
       "2024-01-01 06:24:17  2024_1_1.csv_06:10:50  \n",
       "2024-01-01 06:37:44  2024_1_1.csv_06:10:50  \n",
       "2024-01-01 06:51:12  2024_1_1.csv_06:10:50  \n",
       "2024-01-01 07:04:39  2024_1_1.csv_06:10:50  "
      ]
     },
     "execution_count": 6,
     "metadata": {},
     "output_type": "execute_result"
    }
   ],
   "source": [
    "df.head()"
   ]
  },
  {
   "cell_type": "code",
   "execution_count": 7,
   "metadata": {},
   "outputs": [
    {
     "data": {
      "text/plain": [
       "PeriodIndex(['2024-01', '2024-01', '2024-01', '2024-01', '2024-01', '2024-01',\n",
       "             '2024-01', '2024-01', '2024-01', '2024-01',\n",
       "             ...\n",
       "             '2024-11', '2024-11', '2024-11', '2024-11', '2024-11', '2024-11',\n",
       "             '2024-11', '2024-11', '2024-11', '2024-11'],\n",
       "            dtype='period[M]', name='Fecha', length=35619)"
      ]
     },
     "execution_count": 7,
     "metadata": {},
     "output_type": "execute_result"
    }
   ],
   "source": [
    "df['mes']=df.index.to_period('M')"
   ]
  },
  {
   "cell_type": "code",
   "execution_count": 207,
   "metadata": {},
   "outputs": [],
   "source": [
    "for i in range(df.shape[0]):\n",
    "    df.iloc[i,5]=formarar_dia(df.iloc[i,4][:-9])"
   ]
  },
  {
   "cell_type": "code",
   "execution_count": 208,
   "metadata": {},
   "outputs": [
    {
     "data": {
      "text/plain": [
       "Index(['conteo', 'Carro', 'Tiempo_paro', 'Hora_primer_carro', 'id',\n",
       "       'fecha_produccion'],\n",
       "      dtype='object')"
      ]
     },
     "execution_count": 208,
     "metadata": {},
     "output_type": "execute_result"
    }
   ],
   "source": [
    "df.columns"
   ]
  },
  {
   "cell_type": "code",
   "execution_count": 210,
   "metadata": {},
   "outputs": [],
   "source": [
    "# df[['Carro','Tiempo_paro','Hora_primer_carro', 'fecha_produccion']].to_csv('Datos_Produccion_H4.csv')"
   ]
  }
 ],
 "metadata": {
  "kernelspec": {
   "display_name": "Python 3",
   "language": "python",
   "name": "python3"
  },
  "language_info": {
   "codemirror_mode": {
    "name": "ipython",
    "version": 3
   },
   "file_extension": ".py",
   "mimetype": "text/x-python",
   "name": "python",
   "nbconvert_exporter": "python",
   "pygments_lexer": "ipython3",
   "version": "3.11.9"
  }
 },
 "nbformat": 4,
 "nbformat_minor": 2
}
